{
 "cells": [
  {
   "cell_type": "markdown",
   "id": "ff2f9ddf",
   "metadata": {},
   "source": [
    "## DAY 02\n",
    "### ASSIGNMENT "
   ]
  },
  {
   "cell_type": "markdown",
   "id": "4ed51743",
   "metadata": {},
   "source": [
    "Write a Python program to print the even numbers from a given list."
   ]
  },
  {
   "cell_type": "code",
   "execution_count": 11,
   "id": "abb2cf45",
   "metadata": {},
   "outputs": [
    {
     "name": "stdout",
     "output_type": "stream",
     "text": [
      "Enter a number: 20\n",
      "0\n",
      "2\n",
      "4\n",
      "6\n",
      "8\n",
      "10\n",
      "12\n",
      "14\n",
      "16\n",
      "18\n"
     ]
    }
   ],
   "source": [
    "n=int(input(\"Enter a number: \"))\n",
    "lst=[]                    \n",
    "for lst in range(n):     \n",
    "    if lst%2==0:\n",
    "        print(lst)"
   ]
  },
  {
   "cell_type": "code",
   "execution_count": null,
   "id": "ad45d133",
   "metadata": {},
   "outputs": [],
   "source": []
  }
 ],
 "metadata": {
  "kernelspec": {
   "display_name": "Python 3",
   "language": "python",
   "name": "python3"
  },
  "language_info": {
   "codemirror_mode": {
    "name": "ipython",
    "version": 3
   },
   "file_extension": ".py",
   "mimetype": "text/x-python",
   "name": "python",
   "nbconvert_exporter": "python",
   "pygments_lexer": "ipython3",
   "version": "3.8.8"
  }
 },
 "nbformat": 4,
 "nbformat_minor": 5
}
