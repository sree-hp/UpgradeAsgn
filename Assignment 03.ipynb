{
 "cells": [
  {
   "cell_type": "markdown",
   "id": "9decb824",
   "metadata": {},
   "source": [
    "## DAY 3\n",
    "### ASSIGNMENT"
   ]
  },
  {
   "cell_type": "markdown",
   "id": "462a5606",
   "metadata": {},
   "source": [
    "## QUESTION 01\n",
    "\n",
    "### FROM THE ARRAY, RETRIVE THE VALUES([[4,5,6],[6,7,8]]) USING INDEXING."
   ]
  },
  {
   "cell_type": "code",
   "execution_count": 1,
   "id": "90a9438f",
   "metadata": {},
   "outputs": [],
   "source": [
    "import numpy as np"
   ]
  },
  {
   "cell_type": "code",
   "execution_count": 3,
   "id": "bb482ac5",
   "metadata": {},
   "outputs": [],
   "source": [
    "lst1=[1,2,3,4,5]\n",
    "lst2=[2,3,4,5,6]\n",
    "lst3=[4,5,6,7,8]\n",
    "arr=np.array([lst1,lst2,lst3])"
   ]
  },
  {
   "cell_type": "code",
   "execution_count": 4,
   "id": "b0644a1d",
   "metadata": {},
   "outputs": [
    {
     "data": {
      "text/plain": [
       "array([[1, 2, 3, 4, 5],\n",
       "       [2, 3, 4, 5, 6],\n",
       "       [4, 5, 6, 7, 8]])"
      ]
     },
     "execution_count": 4,
     "metadata": {},
     "output_type": "execute_result"
    }
   ],
   "source": [
    "arr"
   ]
  },
  {
   "cell_type": "code",
   "execution_count": 6,
   "id": "78aef07f",
   "metadata": {},
   "outputs": [
    {
     "data": {
      "text/plain": [
       "array([[4, 5, 6],\n",
       "       [6, 7, 8]])"
      ]
     },
     "execution_count": 6,
     "metadata": {},
     "output_type": "execute_result"
    }
   ],
   "source": [
    "arr[1:,2:]"
   ]
  },
  {
   "cell_type": "markdown",
   "id": "a24e4655",
   "metadata": {},
   "source": [
    "## QUESTION 02\n",
    "\n",
    "### CREATE A DATA FRAME USING np.random.randn FUNCTION WITH 5 ROWS AND 4 COLUMNS AND PERFORM VARIOUS OPERATIONS USING PANDAS LIBRARY"
   ]
  },
  {
   "cell_type": "code",
   "execution_count": 25,
   "id": "57883b24",
   "metadata": {},
   "outputs": [
    {
     "data": {
      "text/html": [
       "<div>\n",
       "<style scoped>\n",
       "    .dataframe tbody tr th:only-of-type {\n",
       "        vertical-align: middle;\n",
       "    }\n",
       "\n",
       "    .dataframe tbody tr th {\n",
       "        vertical-align: top;\n",
       "    }\n",
       "\n",
       "    .dataframe thead th {\n",
       "        text-align: right;\n",
       "    }\n",
       "</style>\n",
       "<table border=\"1\" class=\"dataframe\">\n",
       "  <thead>\n",
       "    <tr style=\"text-align: right;\">\n",
       "      <th></th>\n",
       "      <th>Column1</th>\n",
       "      <th>Column2</th>\n",
       "      <th>Column3</th>\n",
       "      <th>Column4</th>\n",
       "    </tr>\n",
       "  </thead>\n",
       "  <tbody>\n",
       "    <tr>\n",
       "      <th>Row1</th>\n",
       "      <td>0.649122</td>\n",
       "      <td>-2.679288</td>\n",
       "      <td>-0.917120</td>\n",
       "      <td>-1.886787</td>\n",
       "    </tr>\n",
       "    <tr>\n",
       "      <th>Row2</th>\n",
       "      <td>-0.817751</td>\n",
       "      <td>0.109067</td>\n",
       "      <td>-0.058217</td>\n",
       "      <td>-0.457767</td>\n",
       "    </tr>\n",
       "    <tr>\n",
       "      <th>Row3</th>\n",
       "      <td>1.739710</td>\n",
       "      <td>-1.159130</td>\n",
       "      <td>-1.180192</td>\n",
       "      <td>-1.973805</td>\n",
       "    </tr>\n",
       "    <tr>\n",
       "      <th>Row4</th>\n",
       "      <td>1.408140</td>\n",
       "      <td>-0.226266</td>\n",
       "      <td>-0.971657</td>\n",
       "      <td>1.749641</td>\n",
       "    </tr>\n",
       "    <tr>\n",
       "      <th>Row5</th>\n",
       "      <td>0.113475</td>\n",
       "      <td>-0.719015</td>\n",
       "      <td>0.305388</td>\n",
       "      <td>-0.266778</td>\n",
       "    </tr>\n",
       "  </tbody>\n",
       "</table>\n",
       "</div>"
      ],
      "text/plain": [
       "       Column1   Column2   Column3   Column4\n",
       "Row1  0.649122 -2.679288 -0.917120 -1.886787\n",
       "Row2 -0.817751  0.109067 -0.058217 -0.457767\n",
       "Row3  1.739710 -1.159130 -1.180192 -1.973805\n",
       "Row4  1.408140 -0.226266 -0.971657  1.749641\n",
       "Row5  0.113475 -0.719015  0.305388 -0.266778"
      ]
     },
     "execution_count": 25,
     "metadata": {},
     "output_type": "execute_result"
    }
   ],
   "source": [
    "import pandas as pd\n",
    "import numpy as np\n",
    "df=pd.DataFrame(np.random.randn(5,4),index=['Row1','Row2','Row3','Row4','Row5',],columns=[\"Column1\",\"Column2\",\"Column3\",\"Column4\"])\n",
    "df"
   ]
  },
  {
   "cell_type": "code",
   "execution_count": 27,
   "id": "596c0edd",
   "metadata": {},
   "outputs": [
    {
     "name": "stdout",
     "output_type": "stream",
     "text": [
      "       Column1   Column2   Column3   Column4\n",
      "Row1  0.649122 -2.679288 -0.917120 -1.886787\n",
      "Row2 -0.817751  0.109067 -0.058217 -0.457767\n",
      "\n",
      "       Column1   Column2   Column3   Column4\n",
      "Row4  1.408140 -0.226266 -0.971657  1.749641\n",
      "Row5  0.113475 -0.719015  0.305388 -0.266778\n",
      "\n",
      "       Column1   Column4\n",
      "Row1  0.649122 -1.886787\n",
      "Row2 -0.817751 -0.457767\n",
      "Row3  1.739710 -1.973805\n",
      "Row4  1.408140  1.749641\n",
      "Row5  0.113475 -0.266778\n"
     ]
    }
   ],
   "source": [
    "print(df.head(2))\n",
    "print()\n",
    "print(df.tail(2))\n",
    "print()\n",
    "print(df[['Column1','Column4']])"
   ]
  },
  {
   "cell_type": "code",
   "execution_count": 28,
   "id": "dcd5bff7",
   "metadata": {},
   "outputs": [
    {
     "name": "stdout",
     "output_type": "stream",
     "text": [
      "Column1    0.649122\n",
      "Column2   -2.679288\n",
      "Column3   -0.917120\n",
      "Column4   -1.886787\n",
      "Name: Row1, dtype: float64\n",
      "\n",
      "<class 'pandas.core.series.Series'>\n",
      "\n",
      "       Column2   Column3\n",
      "Row3 -1.159130 -1.180192\n",
      "Row4 -0.226266 -0.971657\n"
     ]
    }
   ],
   "source": [
    "print(df.loc['Row1']) #accessing elements\n",
    "print()\n",
    "print(type(df.loc['Row1']))\n",
    "print()\n",
    "print(df.iloc[2:4,1:3])"
   ]
  },
  {
   "cell_type": "code",
   "execution_count": 29,
   "id": "7ff460f3",
   "metadata": {},
   "outputs": [
    {
     "data": {
      "text/plain": [
       "array([[-2.67928834, -0.9171204 , -1.88678702],\n",
       "       [ 0.10906696, -0.05821678, -0.4577667 ],\n",
       "       [-1.15913047, -1.18019197, -1.97380468],\n",
       "       [-0.22626647, -0.97165712,  1.74964147],\n",
       "       [-0.71901456,  0.3053884 , -0.26677829]])"
      ]
     },
     "execution_count": 29,
     "metadata": {},
     "output_type": "execute_result"
    }
   ],
   "source": [
    "df.iloc[:,1:].values"
   ]
  },
  {
   "cell_type": "code",
   "execution_count": 30,
   "id": "9a42a917",
   "metadata": {},
   "outputs": [
    {
     "data": {
      "text/plain": [
       "Column1    0\n",
       "Column2    0\n",
       "Column3    0\n",
       "Column4    0\n",
       "dtype: int64"
      ]
     },
     "execution_count": 30,
     "metadata": {},
     "output_type": "execute_result"
    }
   ],
   "source": [
    "df.isnull().sum()"
   ]
  },
  {
   "cell_type": "code",
   "execution_count": 31,
   "id": "06f5e7be",
   "metadata": {},
   "outputs": [
    {
     "data": {
      "text/html": [
       "<div>\n",
       "<style scoped>\n",
       "    .dataframe tbody tr th:only-of-type {\n",
       "        vertical-align: middle;\n",
       "    }\n",
       "\n",
       "    .dataframe tbody tr th {\n",
       "        vertical-align: top;\n",
       "    }\n",
       "\n",
       "    .dataframe thead th {\n",
       "        text-align: right;\n",
       "    }\n",
       "</style>\n",
       "<table border=\"1\" class=\"dataframe\">\n",
       "  <thead>\n",
       "    <tr style=\"text-align: right;\">\n",
       "      <th></th>\n",
       "      <th>Column1</th>\n",
       "      <th>Column2</th>\n",
       "      <th>Column3</th>\n",
       "      <th>Column4</th>\n",
       "    </tr>\n",
       "  </thead>\n",
       "  <tbody>\n",
       "    <tr>\n",
       "      <th>Row1</th>\n",
       "      <td>0.649122</td>\n",
       "      <td>-2.679288</td>\n",
       "      <td>-0.917120</td>\n",
       "      <td>-1.886787</td>\n",
       "    </tr>\n",
       "    <tr>\n",
       "      <th>Row2</th>\n",
       "      <td>-0.817751</td>\n",
       "      <td>0.109067</td>\n",
       "      <td>-0.058217</td>\n",
       "      <td>-0.457767</td>\n",
       "    </tr>\n",
       "    <tr>\n",
       "      <th>Row3</th>\n",
       "      <td>1.739710</td>\n",
       "      <td>-1.159130</td>\n",
       "      <td>-1.180192</td>\n",
       "      <td>-1.973805</td>\n",
       "    </tr>\n",
       "    <tr>\n",
       "      <th>Row4</th>\n",
       "      <td>1.408140</td>\n",
       "      <td>-0.226266</td>\n",
       "      <td>-0.971657</td>\n",
       "      <td>1.749641</td>\n",
       "    </tr>\n",
       "    <tr>\n",
       "      <th>Row5</th>\n",
       "      <td>0.113475</td>\n",
       "      <td>-0.719015</td>\n",
       "      <td>0.305388</td>\n",
       "      <td>-0.266778</td>\n",
       "    </tr>\n",
       "  </tbody>\n",
       "</table>\n",
       "</div>"
      ],
      "text/plain": [
       "       Column1   Column2   Column3   Column4\n",
       "Row1  0.649122 -2.679288 -0.917120 -1.886787\n",
       "Row2 -0.817751  0.109067 -0.058217 -0.457767\n",
       "Row3  1.739710 -1.159130 -1.180192 -1.973805\n",
       "Row4  1.408140 -0.226266 -0.971657  1.749641\n",
       "Row5  0.113475 -0.719015  0.305388 -0.266778"
      ]
     },
     "execution_count": 31,
     "metadata": {},
     "output_type": "execute_result"
    }
   ],
   "source": [
    "df"
   ]
  },
  {
   "cell_type": "code",
   "execution_count": 32,
   "id": "e1b331a6",
   "metadata": {},
   "outputs": [
    {
     "data": {
      "text/plain": [
       "array([ 0.64912179, -0.81775072,  1.73970966,  1.40813961,  0.11347503])"
      ]
     },
     "execution_count": 32,
     "metadata": {},
     "output_type": "execute_result"
    }
   ],
   "source": [
    "df['Column1'].unique()"
   ]
  },
  {
   "cell_type": "code",
   "execution_count": 33,
   "id": "89cb039f",
   "metadata": {},
   "outputs": [
    {
     "data": {
      "text/plain": [
       "(5, 4)"
      ]
     },
     "execution_count": 33,
     "metadata": {},
     "output_type": "execute_result"
    }
   ],
   "source": [
    "df.shape"
   ]
  },
  {
   "cell_type": "code",
   "execution_count": 34,
   "id": "42c7f6cb",
   "metadata": {},
   "outputs": [
    {
     "name": "stdout",
     "output_type": "stream",
     "text": [
      "<class 'pandas.core.frame.DataFrame'>\n",
      "Index: 5 entries, Row1 to Row5\n",
      "Data columns (total 4 columns):\n",
      " #   Column   Non-Null Count  Dtype  \n",
      "---  ------   --------------  -----  \n",
      " 0   Column1  5 non-null      float64\n",
      " 1   Column2  5 non-null      float64\n",
      " 2   Column3  5 non-null      float64\n",
      " 3   Column4  5 non-null      float64\n",
      "dtypes: float64(4)\n",
      "memory usage: 372.0+ bytes\n"
     ]
    }
   ],
   "source": [
    "df.info()"
   ]
  },
  {
   "cell_type": "code",
   "execution_count": 35,
   "id": "c6354a8a",
   "metadata": {},
   "outputs": [
    {
     "data": {
      "text/html": [
       "<div>\n",
       "<style scoped>\n",
       "    .dataframe tbody tr th:only-of-type {\n",
       "        vertical-align: middle;\n",
       "    }\n",
       "\n",
       "    .dataframe tbody tr th {\n",
       "        vertical-align: top;\n",
       "    }\n",
       "\n",
       "    .dataframe thead th {\n",
       "        text-align: right;\n",
       "    }\n",
       "</style>\n",
       "<table border=\"1\" class=\"dataframe\">\n",
       "  <thead>\n",
       "    <tr style=\"text-align: right;\">\n",
       "      <th></th>\n",
       "      <th>Column1</th>\n",
       "      <th>Column2</th>\n",
       "      <th>Column3</th>\n",
       "      <th>Column4</th>\n",
       "    </tr>\n",
       "  </thead>\n",
       "  <tbody>\n",
       "    <tr>\n",
       "      <th>count</th>\n",
       "      <td>5.000000</td>\n",
       "      <td>5.000000</td>\n",
       "      <td>5.000000</td>\n",
       "      <td>5.000000</td>\n",
       "    </tr>\n",
       "    <tr>\n",
       "      <th>mean</th>\n",
       "      <td>0.618539</td>\n",
       "      <td>-0.934927</td>\n",
       "      <td>-0.564360</td>\n",
       "      <td>-0.567099</td>\n",
       "    </tr>\n",
       "    <tr>\n",
       "      <th>std</th>\n",
       "      <td>1.024627</td>\n",
       "      <td>1.087636</td>\n",
       "      <td>0.648503</td>\n",
       "      <td>1.515737</td>\n",
       "    </tr>\n",
       "    <tr>\n",
       "      <th>min</th>\n",
       "      <td>-0.817751</td>\n",
       "      <td>-2.679288</td>\n",
       "      <td>-1.180192</td>\n",
       "      <td>-1.973805</td>\n",
       "    </tr>\n",
       "    <tr>\n",
       "      <th>25%</th>\n",
       "      <td>0.113475</td>\n",
       "      <td>-1.159130</td>\n",
       "      <td>-0.971657</td>\n",
       "      <td>-1.886787</td>\n",
       "    </tr>\n",
       "    <tr>\n",
       "      <th>50%</th>\n",
       "      <td>0.649122</td>\n",
       "      <td>-0.719015</td>\n",
       "      <td>-0.917120</td>\n",
       "      <td>-0.457767</td>\n",
       "    </tr>\n",
       "    <tr>\n",
       "      <th>75%</th>\n",
       "      <td>1.408140</td>\n",
       "      <td>-0.226266</td>\n",
       "      <td>-0.058217</td>\n",
       "      <td>-0.266778</td>\n",
       "    </tr>\n",
       "    <tr>\n",
       "      <th>max</th>\n",
       "      <td>1.739710</td>\n",
       "      <td>0.109067</td>\n",
       "      <td>0.305388</td>\n",
       "      <td>1.749641</td>\n",
       "    </tr>\n",
       "  </tbody>\n",
       "</table>\n",
       "</div>"
      ],
      "text/plain": [
       "        Column1   Column2   Column3   Column4\n",
       "count  5.000000  5.000000  5.000000  5.000000\n",
       "mean   0.618539 -0.934927 -0.564360 -0.567099\n",
       "std    1.024627  1.087636  0.648503  1.515737\n",
       "min   -0.817751 -2.679288 -1.180192 -1.973805\n",
       "25%    0.113475 -1.159130 -0.971657 -1.886787\n",
       "50%    0.649122 -0.719015 -0.917120 -0.457767\n",
       "75%    1.408140 -0.226266 -0.058217 -0.266778\n",
       "max    1.739710  0.109067  0.305388  1.749641"
      ]
     },
     "execution_count": 35,
     "metadata": {},
     "output_type": "execute_result"
    }
   ],
   "source": [
    "df.describe()"
   ]
  },
  {
   "cell_type": "code",
   "execution_count": 36,
   "id": "b0c9b195",
   "metadata": {},
   "outputs": [
    {
     "data": {
      "text/html": [
       "<div>\n",
       "<style scoped>\n",
       "    .dataframe tbody tr th:only-of-type {\n",
       "        vertical-align: middle;\n",
       "    }\n",
       "\n",
       "    .dataframe tbody tr th {\n",
       "        vertical-align: top;\n",
       "    }\n",
       "\n",
       "    .dataframe thead th {\n",
       "        text-align: right;\n",
       "    }\n",
       "</style>\n",
       "<table border=\"1\" class=\"dataframe\">\n",
       "  <thead>\n",
       "    <tr style=\"text-align: right;\">\n",
       "      <th></th>\n",
       "      <th>Column1</th>\n",
       "      <th>Column2</th>\n",
       "      <th>Column3</th>\n",
       "      <th>Column4</th>\n",
       "    </tr>\n",
       "  </thead>\n",
       "  <tbody>\n",
       "    <tr>\n",
       "      <th>Column1</th>\n",
       "      <td>1.000000</td>\n",
       "      <td>-0.303675</td>\n",
       "      <td>-0.823618</td>\n",
       "      <td>-0.015603</td>\n",
       "    </tr>\n",
       "    <tr>\n",
       "      <th>Column2</th>\n",
       "      <td>-0.303675</td>\n",
       "      <td>1.000000</td>\n",
       "      <td>0.418588</td>\n",
       "      <td>0.673033</td>\n",
       "    </tr>\n",
       "    <tr>\n",
       "      <th>Column3</th>\n",
       "      <td>-0.823618</td>\n",
       "      <td>0.418588</td>\n",
       "      <td>1.000000</td>\n",
       "      <td>0.179246</td>\n",
       "    </tr>\n",
       "    <tr>\n",
       "      <th>Column4</th>\n",
       "      <td>-0.015603</td>\n",
       "      <td>0.673033</td>\n",
       "      <td>0.179246</td>\n",
       "      <td>1.000000</td>\n",
       "    </tr>\n",
       "  </tbody>\n",
       "</table>\n",
       "</div>"
      ],
      "text/plain": [
       "          Column1   Column2   Column3   Column4\n",
       "Column1  1.000000 -0.303675 -0.823618 -0.015603\n",
       "Column2 -0.303675  1.000000  0.418588  0.673033\n",
       "Column3 -0.823618  0.418588  1.000000  0.179246\n",
       "Column4 -0.015603  0.673033  0.179246  1.000000"
      ]
     },
     "execution_count": 36,
     "metadata": {},
     "output_type": "execute_result"
    }
   ],
   "source": [
    "df.corr()"
   ]
  },
  {
   "cell_type": "code",
   "execution_count": null,
   "id": "fb4076ef",
   "metadata": {},
   "outputs": [],
   "source": []
  }
 ],
 "metadata": {
  "kernelspec": {
   "display_name": "Python 3",
   "language": "python",
   "name": "python3"
  },
  "language_info": {
   "codemirror_mode": {
    "name": "ipython",
    "version": 3
   },
   "file_extension": ".py",
   "mimetype": "text/x-python",
   "name": "python",
   "nbconvert_exporter": "python",
   "pygments_lexer": "ipython3",
   "version": "3.8.8"
  }
 },
 "nbformat": 4,
 "nbformat_minor": 5
}
