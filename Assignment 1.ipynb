{
 "cells": [
  {
   "cell_type": "markdown",
   "id": "63be01f1",
   "metadata": {},
   "source": [
    "## DAY 01\n",
    "## ASSIGNMENT 01"
   ]
  },
  {
   "cell_type": "markdown",
   "id": "9fae79ea",
   "metadata": {},
   "source": [
    "WRITE A PROGRAM WHICH ACCEPT PRINCIPLE, RATE AND TIME FROM USER AND PRINT THE SIMPLE INTEREST. \n",
    "THE FORMULA TO CALCULATE SIMPLE INTEREST IS: \n",
    "simple interest = principle* rate* time/ 100"
   ]
  },
  {
   "cell_type": "code",
   "execution_count": 3,
   "id": "dc5fdd2b",
   "metadata": {},
   "outputs": [
    {
     "name": "stdout",
     "output_type": "stream",
     "text": [
      "ENTER THE PRINCIPLE: 5000\n",
      "ENTER THE RATE: 5\n",
      "ENTER THE TIME: 3\n",
      "750.0\n"
     ]
    }
   ],
   "source": [
    "principle=int(input(\"ENTER THE PRINCIPLE: \"))\n",
    "rate=float(input(\"ENTER THE RATE: \")) ## IN %\n",
    "time=int(input(\"ENTER THE TIME: \")) ##IN YEARS\n",
    "si=(principle*rate*time)/100   #si=SIMPLE INTEREST\n",
    "print(si)"
   ]
  },
  {
   "cell_type": "code",
   "execution_count": null,
   "id": "4186971b",
   "metadata": {},
   "outputs": [],
   "source": []
  }
 ],
 "metadata": {
  "kernelspec": {
   "display_name": "Python 3",
   "language": "python",
   "name": "python3"
  },
  "language_info": {
   "codemirror_mode": {
    "name": "ipython",
    "version": 3
   },
   "file_extension": ".py",
   "mimetype": "text/x-python",
   "name": "python",
   "nbconvert_exporter": "python",
   "pygments_lexer": "ipython3",
   "version": "3.8.8"
  }
 },
 "nbformat": 4,
 "nbformat_minor": 5
}
